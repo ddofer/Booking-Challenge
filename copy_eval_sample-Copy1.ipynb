{
 "cells": [
  {
   "cell_type": "markdown",
   "metadata": {},
   "source": [
    "# Booking.com WSDM WebTour 2021 Challenge demo"
   ]
  },
  {
   "cell_type": "code",
   "execution_count": 1,
   "metadata": {},
   "outputs": [],
   "source": [
    "import pandas as pd"
   ]
  },
  {
   "cell_type": "markdown",
   "metadata": {},
   "source": [
    "## Load train set"
   ]
  },
  {
   "cell_type": "code",
   "execution_count": null,
   "metadata": {},
   "outputs": [],
   "source": []
  },
  {
   "cell_type": "code",
   "execution_count": 15,
   "metadata": {},
   "outputs": [
    {
     "name": "stderr",
     "output_type": "stream",
     "text": [
      "/opt/anaconda3/lib/python3.8/site-packages/numpy/lib/arraysetops.py:580: FutureWarning: elementwise comparison failed; returning scalar instead, but in the future will perform elementwise comparison\n",
      "  mask |= (ar1 == a)\n"
     ]
    },
    {
     "name": "stdout",
     "output_type": "stream",
     "text": [
      "1166835\n"
     ]
    }
   ],
   "source": [
    "train_set = pd.read_csv('booking_train_set.csv', index_col=[0]).sort_values(by=['utrip_id','checkin'])\n",
    "print(train_set.shape[0])"
   ]
  },
  {
   "cell_type": "markdown",
   "metadata": {},
   "source": [
    "* ALT - filter for only train cities with multiple appearances, (after first step?/row_num)\n",
    "* Doesn't affect top k result "
   ]
  },
  {
   "cell_type": "code",
   "execution_count": 17,
   "metadata": {},
   "outputs": [
    {
     "data": {
      "text/html": [
       "<div>\n",
       "<style scoped>\n",
       "    .dataframe tbody tr th:only-of-type {\n",
       "        vertical-align: middle;\n",
       "    }\n",
       "\n",
       "    .dataframe tbody tr th {\n",
       "        vertical-align: top;\n",
       "    }\n",
       "\n",
       "    .dataframe thead th {\n",
       "        text-align: right;\n",
       "    }\n",
       "</style>\n",
       "<table border=\"1\" class=\"dataframe\">\n",
       "  <thead>\n",
       "    <tr style=\"text-align: right;\">\n",
       "      <th></th>\n",
       "      <th>user_id</th>\n",
       "      <th>checkin</th>\n",
       "      <th>checkout</th>\n",
       "      <th>city_id</th>\n",
       "      <th>device_class</th>\n",
       "      <th>affiliate_id</th>\n",
       "      <th>booker_country</th>\n",
       "      <th>hotel_country</th>\n",
       "      <th>utrip_id</th>\n",
       "      <th>c</th>\n",
       "      <th>row_num</th>\n",
       "      <th>total_rows</th>\n",
       "    </tr>\n",
       "  </thead>\n",
       "  <tbody>\n",
       "    <tr>\n",
       "      <th>542547</th>\n",
       "      <td>1000027</td>\n",
       "      <td>2016-08-14</td>\n",
       "      <td>2016-08-16</td>\n",
       "      <td>15626</td>\n",
       "      <td>desktop</td>\n",
       "      <td>7168</td>\n",
       "      <td>Elbonia</td>\n",
       "      <td>Gondal</td>\n",
       "      <td>1000027_1</td>\n",
       "      <td>1113</td>\n",
       "      <td>1</td>\n",
       "      <td>3</td>\n",
       "    </tr>\n",
       "    <tr>\n",
       "      <th>542548</th>\n",
       "      <td>1000027</td>\n",
       "      <td>2016-08-16</td>\n",
       "      <td>2016-08-18</td>\n",
       "      <td>60902</td>\n",
       "      <td>desktop</td>\n",
       "      <td>7168</td>\n",
       "      <td>Elbonia</td>\n",
       "      <td>Gondal</td>\n",
       "      <td>1000027_1</td>\n",
       "      <td>62</td>\n",
       "      <td>2</td>\n",
       "      <td>3</td>\n",
       "    </tr>\n",
       "    <tr>\n",
       "      <th>542549</th>\n",
       "      <td>1000027</td>\n",
       "      <td>2016-08-18</td>\n",
       "      <td>2016-08-21</td>\n",
       "      <td>30628</td>\n",
       "      <td>desktop</td>\n",
       "      <td>253</td>\n",
       "      <td>Elbonia</td>\n",
       "      <td>Gondal</td>\n",
       "      <td>1000027_1</td>\n",
       "      <td>72</td>\n",
       "      <td>3</td>\n",
       "      <td>3</td>\n",
       "    </tr>\n",
       "    <tr>\n",
       "      <th>1061281</th>\n",
       "      <td>1000033</td>\n",
       "      <td>2016-04-09</td>\n",
       "      <td>2016-04-11</td>\n",
       "      <td>38677</td>\n",
       "      <td>mobile</td>\n",
       "      <td>359</td>\n",
       "      <td>Gondal</td>\n",
       "      <td>Cobra Island</td>\n",
       "      <td>1000033_1</td>\n",
       "      <td>2247</td>\n",
       "      <td>1</td>\n",
       "      <td>5</td>\n",
       "    </tr>\n",
       "    <tr>\n",
       "      <th>1061282</th>\n",
       "      <td>1000033</td>\n",
       "      <td>2016-04-11</td>\n",
       "      <td>2016-04-12</td>\n",
       "      <td>52089</td>\n",
       "      <td>desktop</td>\n",
       "      <td>384</td>\n",
       "      <td>Gondal</td>\n",
       "      <td>Cobra Island</td>\n",
       "      <td>1000033_1</td>\n",
       "      <td>150</td>\n",
       "      <td>2</td>\n",
       "      <td>5</td>\n",
       "    </tr>\n",
       "    <tr>\n",
       "      <th>...</th>\n",
       "      <td>...</td>\n",
       "      <td>...</td>\n",
       "      <td>...</td>\n",
       "      <td>...</td>\n",
       "      <td>...</td>\n",
       "      <td>...</td>\n",
       "      <td>...</td>\n",
       "      <td>...</td>\n",
       "      <td>...</td>\n",
       "      <td>...</td>\n",
       "      <td>...</td>\n",
       "      <td>...</td>\n",
       "    </tr>\n",
       "    <tr>\n",
       "      <th>1120386</th>\n",
       "      <td>999855</td>\n",
       "      <td>2016-04-22</td>\n",
       "      <td>2016-04-24</td>\n",
       "      <td>33408</td>\n",
       "      <td>mobile</td>\n",
       "      <td>359</td>\n",
       "      <td>Gondal</td>\n",
       "      <td>Fook Island</td>\n",
       "      <td>999855_1</td>\n",
       "      <td>779</td>\n",
       "      <td>8</td>\n",
       "      <td>11</td>\n",
       "    </tr>\n",
       "    <tr>\n",
       "      <th>1120390</th>\n",
       "      <td>999855</td>\n",
       "      <td>2016-04-27</td>\n",
       "      <td>2016-04-29</td>\n",
       "      <td>63729</td>\n",
       "      <td>mobile</td>\n",
       "      <td>359</td>\n",
       "      <td>Gondal</td>\n",
       "      <td>Fook Island</td>\n",
       "      <td>999855_1</td>\n",
       "      <td>76</td>\n",
       "      <td>9</td>\n",
       "      <td>11</td>\n",
       "    </tr>\n",
       "    <tr>\n",
       "      <th>1120391</th>\n",
       "      <td>999855</td>\n",
       "      <td>2016-04-29</td>\n",
       "      <td>2016-05-01</td>\n",
       "      <td>44489</td>\n",
       "      <td>mobile</td>\n",
       "      <td>359</td>\n",
       "      <td>Gondal</td>\n",
       "      <td>Fook Island</td>\n",
       "      <td>999855_1</td>\n",
       "      <td>479</td>\n",
       "      <td>10</td>\n",
       "      <td>11</td>\n",
       "    </tr>\n",
       "    <tr>\n",
       "      <th>1120392</th>\n",
       "      <td>999855</td>\n",
       "      <td>2016-05-01</td>\n",
       "      <td>2016-05-02</td>\n",
       "      <td>20345</td>\n",
       "      <td>mobile</td>\n",
       "      <td>359</td>\n",
       "      <td>Gondal</td>\n",
       "      <td>Fook Island</td>\n",
       "      <td>999855_1</td>\n",
       "      <td>2391</td>\n",
       "      <td>11</td>\n",
       "      <td>11</td>\n",
       "    </tr>\n",
       "    <tr>\n",
       "      <th>163552</th>\n",
       "      <td>999944</td>\n",
       "      <td>2016-06-23</td>\n",
       "      <td>2016-06-24</td>\n",
       "      <td>17944</td>\n",
       "      <td>desktop</td>\n",
       "      <td>4541</td>\n",
       "      <td>Gondal</td>\n",
       "      <td>Glubbdubdrib</td>\n",
       "      <td>999944_1</td>\n",
       "      <td>79</td>\n",
       "      <td>1</td>\n",
       "      <td>1</td>\n",
       "    </tr>\n",
       "  </tbody>\n",
       "</table>\n",
       "<p>940108 rows × 12 columns</p>\n",
       "</div>"
      ],
      "text/plain": [
       "         user_id    checkin    checkout  city_id device_class  affiliate_id  \\\n",
       "542547   1000027 2016-08-14  2016-08-16    15626      desktop          7168   \n",
       "542548   1000027 2016-08-16  2016-08-18    60902      desktop          7168   \n",
       "542549   1000027 2016-08-18  2016-08-21    30628      desktop           253   \n",
       "1061281  1000033 2016-04-09  2016-04-11    38677       mobile           359   \n",
       "1061282  1000033 2016-04-11  2016-04-12    52089      desktop           384   \n",
       "...          ...        ...         ...      ...          ...           ...   \n",
       "1120386   999855 2016-04-22  2016-04-24    33408       mobile           359   \n",
       "1120390   999855 2016-04-27  2016-04-29    63729       mobile           359   \n",
       "1120391   999855 2016-04-29  2016-05-01    44489       mobile           359   \n",
       "1120392   999855 2016-05-01  2016-05-02    20345       mobile           359   \n",
       "163552    999944 2016-06-23  2016-06-24    17944      desktop          4541   \n",
       "\n",
       "        booker_country hotel_country   utrip_id     c  row_num  total_rows  \n",
       "542547         Elbonia        Gondal  1000027_1  1113        1           3  \n",
       "542548         Elbonia        Gondal  1000027_1    62        2           3  \n",
       "542549         Elbonia        Gondal  1000027_1    72        3           3  \n",
       "1061281         Gondal  Cobra Island  1000033_1  2247        1           5  \n",
       "1061282         Gondal  Cobra Island  1000033_1   150        2           5  \n",
       "...                ...           ...        ...   ...      ...         ...  \n",
       "1120386         Gondal   Fook Island   999855_1   779        8          11  \n",
       "1120390         Gondal   Fook Island   999855_1    76        9          11  \n",
       "1120391         Gondal   Fook Island   999855_1   479       10          11  \n",
       "1120392         Gondal   Fook Island   999855_1  2391       11          11  \n",
       "163552          Gondal  Glubbdubdrib   999944_1    79        1           1  \n",
       "\n",
       "[940108 rows x 12 columns]"
      ]
     },
     "execution_count": 17,
     "metadata": {},
     "output_type": "execute_result"
    }
   ],
   "source": [
    "df[\"checkin\"] = pd.to_datetime(df[\"checkin\"],infer_datetime_format=True)\n",
    "df[\"row_num\"] = df.groupby(\"utrip_id\")[\"checkin\"].rank(ascending=True,pct=False).astype(int)\n",
    "utrip_counts = df[\"utrip_id\"].value_counts()\n",
    "df[\"total_rows\"] = df[\"utrip_id\"].map(utrip_counts)\n",
    "df"
   ]
  },
  {
   "cell_type": "code",
   "execution_count": 3,
   "metadata": {},
   "outputs": [
    {
     "name": "stdout",
     "output_type": "stream",
     "text": [
      "count    1.166835e+06\n",
      "mean     1.666303e+03\n",
      "std      2.507403e+03\n",
      "min      1.000000e+00\n",
      "25%      8.700000e+01\n",
      "50%      5.430000e+02\n",
      "75%      1.970000e+03\n",
      "max      1.124200e+04\n",
      "Name: c, dtype: float64\n",
      "940108\n"
     ]
    }
   ],
   "source": [
    "freq = train_set[\"city_id\"].value_counts()\n",
    "train_set[\"c\"] = train_set[\"city_id\"].map(freq)\n",
    "print(train_set[\"c\"].describe())\n",
    "train_set = train_set.loc[train_set[\"c\"]>50]\n",
    "print(train_set.shape[0])"
   ]
  },
  {
   "cell_type": "code",
   "execution_count": 4,
   "metadata": {},
   "outputs": [
    {
     "data": {
      "text/html": [
       "<div>\n",
       "<style scoped>\n",
       "    .dataframe tbody tr th:only-of-type {\n",
       "        vertical-align: middle;\n",
       "    }\n",
       "\n",
       "    .dataframe tbody tr th {\n",
       "        vertical-align: top;\n",
       "    }\n",
       "\n",
       "    .dataframe thead th {\n",
       "        text-align: right;\n",
       "    }\n",
       "</style>\n",
       "<table border=\"1\" class=\"dataframe\">\n",
       "  <thead>\n",
       "    <tr style=\"text-align: right;\">\n",
       "      <th></th>\n",
       "      <th>user_id</th>\n",
       "      <th>checkin</th>\n",
       "      <th>checkout</th>\n",
       "      <th>city_id</th>\n",
       "      <th>device_class</th>\n",
       "      <th>affiliate_id</th>\n",
       "      <th>booker_country</th>\n",
       "      <th>hotel_country</th>\n",
       "      <th>utrip_id</th>\n",
       "      <th>c</th>\n",
       "    </tr>\n",
       "  </thead>\n",
       "  <tbody>\n",
       "    <tr>\n",
       "      <th>542547</th>\n",
       "      <td>1000027</td>\n",
       "      <td>2016-08-14</td>\n",
       "      <td>2016-08-16</td>\n",
       "      <td>15626</td>\n",
       "      <td>desktop</td>\n",
       "      <td>7168</td>\n",
       "      <td>Elbonia</td>\n",
       "      <td>Gondal</td>\n",
       "      <td>1000027_1</td>\n",
       "      <td>1113</td>\n",
       "    </tr>\n",
       "    <tr>\n",
       "      <th>542548</th>\n",
       "      <td>1000027</td>\n",
       "      <td>2016-08-16</td>\n",
       "      <td>2016-08-18</td>\n",
       "      <td>60902</td>\n",
       "      <td>desktop</td>\n",
       "      <td>7168</td>\n",
       "      <td>Elbonia</td>\n",
       "      <td>Gondal</td>\n",
       "      <td>1000027_1</td>\n",
       "      <td>62</td>\n",
       "    </tr>\n",
       "    <tr>\n",
       "      <th>542549</th>\n",
       "      <td>1000027</td>\n",
       "      <td>2016-08-18</td>\n",
       "      <td>2016-08-21</td>\n",
       "      <td>30628</td>\n",
       "      <td>desktop</td>\n",
       "      <td>253</td>\n",
       "      <td>Elbonia</td>\n",
       "      <td>Gondal</td>\n",
       "      <td>1000027_1</td>\n",
       "      <td>72</td>\n",
       "    </tr>\n",
       "    <tr>\n",
       "      <th>1061281</th>\n",
       "      <td>1000033</td>\n",
       "      <td>2016-04-09</td>\n",
       "      <td>2016-04-11</td>\n",
       "      <td>38677</td>\n",
       "      <td>mobile</td>\n",
       "      <td>359</td>\n",
       "      <td>Gondal</td>\n",
       "      <td>Cobra Island</td>\n",
       "      <td>1000033_1</td>\n",
       "      <td>2247</td>\n",
       "    </tr>\n",
       "    <tr>\n",
       "      <th>1061282</th>\n",
       "      <td>1000033</td>\n",
       "      <td>2016-04-11</td>\n",
       "      <td>2016-04-12</td>\n",
       "      <td>52089</td>\n",
       "      <td>desktop</td>\n",
       "      <td>384</td>\n",
       "      <td>Gondal</td>\n",
       "      <td>Cobra Island</td>\n",
       "      <td>1000033_1</td>\n",
       "      <td>150</td>\n",
       "    </tr>\n",
       "  </tbody>\n",
       "</table>\n",
       "</div>"
      ],
      "text/plain": [
       "         user_id     checkin    checkout  city_id device_class  affiliate_id  \\\n",
       "542547   1000027  2016-08-14  2016-08-16    15626      desktop          7168   \n",
       "542548   1000027  2016-08-16  2016-08-18    60902      desktop          7168   \n",
       "542549   1000027  2016-08-18  2016-08-21    30628      desktop           253   \n",
       "1061281  1000033  2016-04-09  2016-04-11    38677       mobile           359   \n",
       "1061282  1000033  2016-04-11  2016-04-12    52089      desktop           384   \n",
       "\n",
       "        booker_country hotel_country   utrip_id     c  \n",
       "542547         Elbonia        Gondal  1000027_1  1113  \n",
       "542548         Elbonia        Gondal  1000027_1    62  \n",
       "542549         Elbonia        Gondal  1000027_1    72  \n",
       "1061281         Gondal  Cobra Island  1000033_1  2247  \n",
       "1061282         Gondal  Cobra Island  1000033_1   150  "
      ]
     },
     "execution_count": 4,
     "metadata": {},
     "output_type": "execute_result"
    }
   ],
   "source": [
    "train_set.head()"
   ]
  },
  {
   "cell_type": "markdown",
   "metadata": {},
   "source": [
    "### Load testset"
   ]
  },
  {
   "cell_type": "code",
   "execution_count": 6,
   "metadata": {},
   "outputs": [],
   "source": [
    "df = train_set\n"
   ]
  },
  {
   "cell_type": "code",
   "execution_count": 7,
   "metadata": {},
   "outputs": [
    {
     "ename": "DataError",
     "evalue": "No numeric types to aggregate",
     "output_type": "error",
     "traceback": [
      "\u001b[0;31m---------------------------------------------------------------------------\u001b[0m",
      "\u001b[0;31mDataError\u001b[0m                                 Traceback (most recent call last)",
      "\u001b[0;32m<ipython-input-7-a6ed1682d912>\u001b[0m in \u001b[0;36m<module>\u001b[0;34m\u001b[0m\n\u001b[0;32m----> 1\u001b[0;31m \u001b[0mdf\u001b[0m\u001b[0;34m[\u001b[0m\u001b[0;34m\"row_num\"\u001b[0m\u001b[0;34m]\u001b[0m \u001b[0;34m=\u001b[0m \u001b[0mdf\u001b[0m\u001b[0;34m.\u001b[0m\u001b[0mgroupby\u001b[0m\u001b[0;34m(\u001b[0m\u001b[0;34m\"utrip_id\"\u001b[0m\u001b[0;34m)\u001b[0m\u001b[0;34m[\u001b[0m\u001b[0;34m\"checkin\"\u001b[0m\u001b[0;34m]\u001b[0m\u001b[0;34m.\u001b[0m\u001b[0mrank\u001b[0m\u001b[0;34m(\u001b[0m\u001b[0mascending\u001b[0m\u001b[0;34m=\u001b[0m\u001b[0;32mTrue\u001b[0m\u001b[0;34m,\u001b[0m\u001b[0mpct\u001b[0m\u001b[0;34m=\u001b[0m\u001b[0;32mFalse\u001b[0m\u001b[0;34m)\u001b[0m\u001b[0;34m\u001b[0m\u001b[0;34m\u001b[0m\u001b[0m\n\u001b[0m\u001b[1;32m      2\u001b[0m \u001b[0mdf\u001b[0m\u001b[0;34m[\u001b[0m\u001b[0;34m\"total_rows\"\u001b[0m\u001b[0;34m]\u001b[0m \u001b[0;34m=\u001b[0m \u001b[0mdf\u001b[0m\u001b[0;34m.\u001b[0m\u001b[0mgroupby\u001b[0m\u001b[0;34m(\u001b[0m\u001b[0;34m\"utrip_id\"\u001b[0m\u001b[0;34m)\u001b[0m\u001b[0;34m.\u001b[0m\u001b[0mtransform\u001b[0m\u001b[0;34m(\u001b[0m\u001b[0;34m\"size\"\u001b[0m\u001b[0;34m)\u001b[0m\u001b[0;34m\u001b[0m\u001b[0;34m\u001b[0m\u001b[0m\n\u001b[1;32m      3\u001b[0m \u001b[0mdf\u001b[0m\u001b[0;34m.\u001b[0m\u001b[0mtail\u001b[0m\u001b[0;34m(\u001b[0m\u001b[0;34m)\u001b[0m\u001b[0;34m\u001b[0m\u001b[0;34m\u001b[0m\u001b[0m\n",
      "\u001b[0;32m/opt/anaconda3/lib/python3.8/site-packages/pandas/core/groupby/groupby.py\u001b[0m in \u001b[0;36mrank\u001b[0;34m(self, method, ascending, na_option, pct, axis)\u001b[0m\n\u001b[1;32m   2299\u001b[0m             \u001b[0mmsg\u001b[0m \u001b[0;34m=\u001b[0m \u001b[0;34m\"na_option must be one of 'keep', 'top', or 'bottom'\"\u001b[0m\u001b[0;34m\u001b[0m\u001b[0;34m\u001b[0m\u001b[0m\n\u001b[1;32m   2300\u001b[0m             \u001b[0;32mraise\u001b[0m \u001b[0mValueError\u001b[0m\u001b[0;34m(\u001b[0m\u001b[0mmsg\u001b[0m\u001b[0;34m)\u001b[0m\u001b[0;34m\u001b[0m\u001b[0;34m\u001b[0m\u001b[0m\n\u001b[0;32m-> 2301\u001b[0;31m         return self._cython_transform(\n\u001b[0m\u001b[1;32m   2302\u001b[0m             \u001b[0;34m\"rank\"\u001b[0m\u001b[0;34m,\u001b[0m\u001b[0;34m\u001b[0m\u001b[0;34m\u001b[0m\u001b[0m\n\u001b[1;32m   2303\u001b[0m             \u001b[0mnumeric_only\u001b[0m\u001b[0;34m=\u001b[0m\u001b[0;32mFalse\u001b[0m\u001b[0;34m,\u001b[0m\u001b[0;34m\u001b[0m\u001b[0;34m\u001b[0m\u001b[0m\n",
      "\u001b[0;32m/opt/anaconda3/lib/python3.8/site-packages/pandas/core/groupby/groupby.py\u001b[0m in \u001b[0;36m_cython_transform\u001b[0;34m(self, how, numeric_only, **kwargs)\u001b[0m\n\u001b[1;32m    970\u001b[0m \u001b[0;34m\u001b[0m\u001b[0m\n\u001b[1;32m    971\u001b[0m         \u001b[0;32mif\u001b[0m \u001b[0mlen\u001b[0m\u001b[0;34m(\u001b[0m\u001b[0moutput\u001b[0m\u001b[0;34m)\u001b[0m \u001b[0;34m==\u001b[0m \u001b[0;36m0\u001b[0m\u001b[0;34m:\u001b[0m\u001b[0;34m\u001b[0m\u001b[0;34m\u001b[0m\u001b[0m\n\u001b[0;32m--> 972\u001b[0;31m             \u001b[0;32mraise\u001b[0m \u001b[0mDataError\u001b[0m\u001b[0;34m(\u001b[0m\u001b[0;34m\"No numeric types to aggregate\"\u001b[0m\u001b[0;34m)\u001b[0m\u001b[0;34m\u001b[0m\u001b[0;34m\u001b[0m\u001b[0m\n\u001b[0m\u001b[1;32m    973\u001b[0m \u001b[0;34m\u001b[0m\u001b[0m\n\u001b[1;32m    974\u001b[0m         \u001b[0;32mreturn\u001b[0m \u001b[0mself\u001b[0m\u001b[0;34m.\u001b[0m\u001b[0m_wrap_transformed_output\u001b[0m\u001b[0;34m(\u001b[0m\u001b[0moutput\u001b[0m\u001b[0;34m)\u001b[0m\u001b[0;34m\u001b[0m\u001b[0;34m\u001b[0m\u001b[0m\n",
      "\u001b[0;31mDataError\u001b[0m: No numeric types to aggregate"
     ]
    }
   ],
   "source": [
    "df[\"row_num\"] = df.groupby(\"utrip_id\")[\"checkin\"].rank(ascending=True,pct=False)\n",
    "df[\"total_rows\"] = df.groupby(\"utrip_id\").transform(\"size\")\n",
    "df.tail()"
   ]
  },
  {
   "cell_type": "code",
   "execution_count": 37,
   "metadata": {},
   "outputs": [],
   "source": [
    "test_set = pd.read_csv('sample_test_set.csv').sort_values(by=['utrip_id','checkin'])"
   ]
  },
  {
   "cell_type": "code",
   "execution_count": 38,
   "metadata": {},
   "outputs": [
    {
     "data": {
      "text/html": [
       "<div>\n",
       "<style scoped>\n",
       "    .dataframe tbody tr th:only-of-type {\n",
       "        vertical-align: middle;\n",
       "    }\n",
       "\n",
       "    .dataframe tbody tr th {\n",
       "        vertical-align: top;\n",
       "    }\n",
       "\n",
       "    .dataframe thead th {\n",
       "        text-align: right;\n",
       "    }\n",
       "</style>\n",
       "<table border=\"1\" class=\"dataframe\">\n",
       "  <thead>\n",
       "    <tr style=\"text-align: right;\">\n",
       "      <th></th>\n",
       "      <th>user_id</th>\n",
       "      <th>checkin</th>\n",
       "      <th>checkout</th>\n",
       "      <th>device_class</th>\n",
       "      <th>affiliate_id</th>\n",
       "      <th>booker_country</th>\n",
       "      <th>utrip_id</th>\n",
       "      <th>row_num</th>\n",
       "      <th>total_rows</th>\n",
       "      <th>city_id</th>\n",
       "      <th>hotel_country</th>\n",
       "    </tr>\n",
       "  </thead>\n",
       "  <tbody>\n",
       "    <tr>\n",
       "      <th>0</th>\n",
       "      <td>1000066</td>\n",
       "      <td>21/07/2016</td>\n",
       "      <td>23/07/2016</td>\n",
       "      <td>desktop</td>\n",
       "      <td>9924</td>\n",
       "      <td>Gondal</td>\n",
       "      <td>1000066_5</td>\n",
       "      <td>1</td>\n",
       "      <td>4</td>\n",
       "      <td>56430</td>\n",
       "      <td>Urkesh</td>\n",
       "    </tr>\n",
       "    <tr>\n",
       "      <th>1</th>\n",
       "      <td>1000066</td>\n",
       "      <td>23/07/2016</td>\n",
       "      <td>25/07/2016</td>\n",
       "      <td>desktop</td>\n",
       "      <td>9924</td>\n",
       "      <td>Gondal</td>\n",
       "      <td>1000066_5</td>\n",
       "      <td>2</td>\n",
       "      <td>4</td>\n",
       "      <td>11543</td>\n",
       "      <td>Urkesh</td>\n",
       "    </tr>\n",
       "    <tr>\n",
       "      <th>2</th>\n",
       "      <td>1000066</td>\n",
       "      <td>25/07/2016</td>\n",
       "      <td>28/07/2016</td>\n",
       "      <td>desktop</td>\n",
       "      <td>9924</td>\n",
       "      <td>Gondal</td>\n",
       "      <td>1000066_5</td>\n",
       "      <td>3</td>\n",
       "      <td>4</td>\n",
       "      <td>5797</td>\n",
       "      <td>Urkesh</td>\n",
       "    </tr>\n",
       "    <tr>\n",
       "      <th>3</th>\n",
       "      <td>1000066</td>\n",
       "      <td>28/07/2016</td>\n",
       "      <td>31/07/2016</td>\n",
       "      <td>mobile</td>\n",
       "      <td>2436</td>\n",
       "      <td>Gondal</td>\n",
       "      <td>1000066_5</td>\n",
       "      <td>4</td>\n",
       "      <td>4</td>\n",
       "      <td>0</td>\n",
       "      <td>NaN</td>\n",
       "    </tr>\n",
       "    <tr>\n",
       "      <th>4</th>\n",
       "      <td>1000270</td>\n",
       "      <td>08/02/2016</td>\n",
       "      <td>09/02/2016</td>\n",
       "      <td>mobile</td>\n",
       "      <td>9452</td>\n",
       "      <td>The Devilfire Empire</td>\n",
       "      <td>1000270_5</td>\n",
       "      <td>1</td>\n",
       "      <td>4</td>\n",
       "      <td>50075</td>\n",
       "      <td>The Devilfire Empire</td>\n",
       "    </tr>\n",
       "  </tbody>\n",
       "</table>\n",
       "</div>"
      ],
      "text/plain": [
       "   user_id     checkin    checkout device_class  affiliate_id  \\\n",
       "0  1000066  21/07/2016  23/07/2016      desktop          9924   \n",
       "1  1000066  23/07/2016  25/07/2016      desktop          9924   \n",
       "2  1000066  25/07/2016  28/07/2016      desktop          9924   \n",
       "3  1000066  28/07/2016  31/07/2016       mobile          2436   \n",
       "4  1000270  08/02/2016  09/02/2016       mobile          9452   \n",
       "\n",
       "         booker_country   utrip_id  row_num  total_rows  city_id  \\\n",
       "0                Gondal  1000066_5        1           4    56430   \n",
       "1                Gondal  1000066_5        2           4    11543   \n",
       "2                Gondal  1000066_5        3           4     5797   \n",
       "3                Gondal  1000066_5        4           4        0   \n",
       "4  The Devilfire Empire  1000270_5        1           4    50075   \n",
       "\n",
       "          hotel_country  \n",
       "0                Urkesh  \n",
       "1                Urkesh  \n",
       "2                Urkesh  \n",
       "3                   NaN  \n",
       "4  The Devilfire Empire  "
      ]
     },
     "execution_count": 38,
     "metadata": {},
     "output_type": "execute_result"
    }
   ],
   "source": [
    "test_set.head()"
   ]
  },
  {
   "cell_type": "markdown",
   "metadata": {},
   "source": [
    "### Generate Dummy Predictions - use top 4 cities in the trainset as benchmark recommendation"
   ]
  },
  {
   "cell_type": "code",
   "execution_count": 17,
   "metadata": {},
   "outputs": [],
   "source": [
    "st = [\"user_id\",\"utrip_steps_from_end\",\"user_id\"]"
   ]
  },
  {
   "cell_type": "code",
   "execution_count": 18,
   "metadata": {},
   "outputs": [
    {
     "data": {
      "text/plain": [
       "['utrip_steps_from_end']"
      ]
     },
     "execution_count": 18,
     "metadata": {},
     "output_type": "execute_result"
    }
   ],
   "source": []
  },
  {
   "cell_type": "code",
   "execution_count": null,
   "metadata": {},
   "outputs": [],
   "source": []
  },
  {
   "cell_type": "code",
   "execution_count": null,
   "metadata": {},
   "outputs": [],
   "source": []
  },
  {
   "cell_type": "code",
   "execution_count": 25,
   "metadata": {},
   "outputs": [
    {
     "data": {
      "text/html": [
       "<div>\n",
       "<style scoped>\n",
       "    .dataframe tbody tr th:only-of-type {\n",
       "        vertical-align: middle;\n",
       "    }\n",
       "\n",
       "    .dataframe tbody tr th {\n",
       "        vertical-align: top;\n",
       "    }\n",
       "\n",
       "    .dataframe thead th {\n",
       "        text-align: right;\n",
       "    }\n",
       "</style>\n",
       "<table border=\"1\" class=\"dataframe\">\n",
       "  <thead>\n",
       "    <tr style=\"text-align: right;\">\n",
       "      <th></th>\n",
       "      <th>utrip_id</th>\n",
       "      <th>city_id_1</th>\n",
       "      <th>city_id_2</th>\n",
       "      <th>city_id_3</th>\n",
       "      <th>city_id_4</th>\n",
       "    </tr>\n",
       "  </thead>\n",
       "  <tbody>\n",
       "    <tr>\n",
       "      <th>0</th>\n",
       "      <td>1000066_2</td>\n",
       "      <td>2748</td>\n",
       "      <td>22065</td>\n",
       "      <td>41971</td>\n",
       "      <td>46854</td>\n",
       "    </tr>\n",
       "    <tr>\n",
       "      <th>1</th>\n",
       "      <td>1000270_1</td>\n",
       "      <td>24507</td>\n",
       "      <td>32392</td>\n",
       "      <td>50075</td>\n",
       "      <td>51517</td>\n",
       "    </tr>\n",
       "    <tr>\n",
       "      <th>2</th>\n",
       "      <td>1000441_1</td>\n",
       "      <td>46411</td>\n",
       "      <td>47759</td>\n",
       "      <td>50457</td>\n",
       "      <td>52933</td>\n",
       "    </tr>\n",
       "    <tr>\n",
       "      <th>3</th>\n",
       "      <td>100048_1</td>\n",
       "      <td>13530</td>\n",
       "      <td>21480</td>\n",
       "      <td>26235</td>\n",
       "      <td>36805</td>\n",
       "    </tr>\n",
       "    <tr>\n",
       "      <th>4</th>\n",
       "      <td>1000543_1</td>\n",
       "      <td>16521</td>\n",
       "      <td>29770</td>\n",
       "      <td>44869</td>\n",
       "      <td>52818</td>\n",
       "    </tr>\n",
       "    <tr>\n",
       "      <th>...</th>\n",
       "      <td>...</td>\n",
       "      <td>...</td>\n",
       "      <td>...</td>\n",
       "      <td>...</td>\n",
       "      <td>...</td>\n",
       "    </tr>\n",
       "    <tr>\n",
       "      <th>70657</th>\n",
       "      <td>999674_1</td>\n",
       "      <td>657</td>\n",
       "      <td>10994</td>\n",
       "      <td>51765</td>\n",
       "      <td>53207</td>\n",
       "    </tr>\n",
       "    <tr>\n",
       "      <th>70658</th>\n",
       "      <td>999797_1</td>\n",
       "      <td>4476</td>\n",
       "      <td>20392</td>\n",
       "      <td>23542</td>\n",
       "      <td>51291</td>\n",
       "    </tr>\n",
       "    <tr>\n",
       "      <th>70659</th>\n",
       "      <td>999862_1</td>\n",
       "      <td>2748</td>\n",
       "      <td>22065</td>\n",
       "      <td>41971</td>\n",
       "      <td>46854</td>\n",
       "    </tr>\n",
       "    <tr>\n",
       "      <th>70660</th>\n",
       "      <td>999911_1</td>\n",
       "      <td>23921</td>\n",
       "      <td>29319</td>\n",
       "      <td>48483</td>\n",
       "      <td>65322</td>\n",
       "    </tr>\n",
       "    <tr>\n",
       "      <th>70661</th>\n",
       "      <td>999991_3</td>\n",
       "      <td>9608</td>\n",
       "      <td>17127</td>\n",
       "      <td>29770</td>\n",
       "      <td>36063</td>\n",
       "    </tr>\n",
       "  </tbody>\n",
       "</table>\n",
       "<p>70662 rows × 5 columns</p>\n",
       "</div>"
      ],
      "text/plain": [
       "        utrip_id  city_id_1  city_id_2  city_id_3  city_id_4\n",
       "0      1000066_2       2748      22065      41971      46854\n",
       "1      1000270_1      24507      32392      50075      51517\n",
       "2      1000441_1      46411      47759      50457      52933\n",
       "3       100048_1      13530      21480      26235      36805\n",
       "4      1000543_1      16521      29770      44869      52818\n",
       "...          ...        ...        ...        ...        ...\n",
       "70657   999674_1        657      10994      51765      53207\n",
       "70658   999797_1       4476      20392      23542      51291\n",
       "70659   999862_1       2748      22065      41971      46854\n",
       "70660   999911_1      23921      29319      48483      65322\n",
       "70661   999991_3       9608      17127      29770      36063\n",
       "\n",
       "[70662 rows x 5 columns]"
      ]
     },
     "execution_count": 25,
     "metadata": {},
     "output_type": "execute_result"
    }
   ],
   "source": [
    "df = pd.read_csv('sub.csv')\n",
    "df[\"r_num\"] = df.groupby(\"utrip_id\")[\"city_id\"].rank(ascending=True,pct=False)\n",
    "df = df.pivot(index='utrip_id', columns='r_num', values='city_id').reset_index() ## , values='score'\n",
    "df.columns = [\"utrip_id\",'city_id_1','city_id_2','city_id_3','city_id_4']\n",
    "df"
   ]
  },
  {
   "cell_type": "code",
   "execution_count": null,
   "metadata": {},
   "outputs": [],
   "source": [
    "pd.DataFrame([topcities]*test_trips.shape[0]\n",
    "                                 , columns= ['city_id_1','city_id_2','city_id_3','city_id_4'])"
   ]
  },
  {
   "cell_type": "code",
   "execution_count": null,
   "metadata": {},
   "outputs": [],
   "source": []
  },
  {
   "cell_type": "code",
   "execution_count": 39,
   "metadata": {},
   "outputs": [
    {
     "data": {
      "text/plain": [
       "Int64Index([47499, 23921, 36063, 17013], dtype='int64')"
      ]
     },
     "execution_count": 39,
     "metadata": {},
     "output_type": "execute_result"
    }
   ],
   "source": [
    "topcities = train_set.city_id.value_counts().index[:4]\n",
    "topcities"
   ]
  },
  {
   "cell_type": "code",
   "execution_count": 40,
   "metadata": {},
   "outputs": [],
   "source": [
    "test_trips = (test_set[['utrip_id']].drop_duplicates()).reset_index().drop('index', axis=1)"
   ]
  },
  {
   "cell_type": "code",
   "execution_count": 41,
   "metadata": {},
   "outputs": [],
   "source": [
    "cities_prediction = pd.DataFrame([topcities]*test_trips.shape[0]\n",
    "                                 , columns= ['city_id_1','city_id_2','city_id_3','city_id_4'])"
   ]
  },
  {
   "cell_type": "markdown",
   "metadata": {},
   "source": [
    "### Create Submission file according to the format"
   ]
  },
  {
   "cell_type": "code",
   "execution_count": 42,
   "metadata": {},
   "outputs": [
    {
     "data": {
      "text/html": [
       "<div>\n",
       "<style scoped>\n",
       "    .dataframe tbody tr th:only-of-type {\n",
       "        vertical-align: middle;\n",
       "    }\n",
       "\n",
       "    .dataframe tbody tr th {\n",
       "        vertical-align: top;\n",
       "    }\n",
       "\n",
       "    .dataframe thead th {\n",
       "        text-align: right;\n",
       "    }\n",
       "</style>\n",
       "<table border=\"1\" class=\"dataframe\">\n",
       "  <thead>\n",
       "    <tr style=\"text-align: right;\">\n",
       "      <th></th>\n",
       "      <th>utrip_id</th>\n",
       "      <th>city_id_1</th>\n",
       "      <th>city_id_2</th>\n",
       "      <th>city_id_3</th>\n",
       "      <th>city_id_4</th>\n",
       "    </tr>\n",
       "  </thead>\n",
       "  <tbody>\n",
       "    <tr>\n",
       "      <th>0</th>\n",
       "      <td>1000066_5</td>\n",
       "      <td>47499</td>\n",
       "      <td>23921</td>\n",
       "      <td>36063</td>\n",
       "      <td>17013</td>\n",
       "    </tr>\n",
       "    <tr>\n",
       "      <th>1</th>\n",
       "      <td>1000270_5</td>\n",
       "      <td>47499</td>\n",
       "      <td>23921</td>\n",
       "      <td>36063</td>\n",
       "      <td>17013</td>\n",
       "    </tr>\n",
       "    <tr>\n",
       "      <th>2</th>\n",
       "      <td>1000441_5</td>\n",
       "      <td>47499</td>\n",
       "      <td>23921</td>\n",
       "      <td>36063</td>\n",
       "      <td>17013</td>\n",
       "    </tr>\n",
       "    <tr>\n",
       "      <th>3</th>\n",
       "      <td>100048_5</td>\n",
       "      <td>47499</td>\n",
       "      <td>23921</td>\n",
       "      <td>36063</td>\n",
       "      <td>17013</td>\n",
       "    </tr>\n",
       "  </tbody>\n",
       "</table>\n",
       "</div>"
      ],
      "text/plain": [
       "    utrip_id  city_id_1  city_id_2  city_id_3  city_id_4\n",
       "0  1000066_5      47499      23921      36063      17013\n",
       "1  1000270_5      47499      23921      36063      17013\n",
       "2  1000441_5      47499      23921      36063      17013\n",
       "3   100048_5      47499      23921      36063      17013"
      ]
     },
     "execution_count": 42,
     "metadata": {},
     "output_type": "execute_result"
    }
   ],
   "source": [
    "submission = pd.concat([test_trips,cities_prediction], axis =1)\n",
    "submission"
   ]
  },
  {
   "cell_type": "code",
   "execution_count": 43,
   "metadata": {},
   "outputs": [],
   "source": [
    "submission.to_csv('submission.csv',index=False)"
   ]
  },
  {
   "cell_type": "markdown",
   "metadata": {},
   "source": [
    "## Read submission file and ground truth"
   ]
  },
  {
   "cell_type": "code",
   "execution_count": 44,
   "metadata": {},
   "outputs": [],
   "source": [
    "ground_truth = pd.read_csv('sample_truth.csv', index_col =[0])\n",
    "submission = pd.read_csv('submission.csv', index_col =[0])"
   ]
  },
  {
   "cell_type": "code",
   "execution_count": 45,
   "metadata": {},
   "outputs": [
    {
     "data": {
      "text/html": [
       "<div>\n",
       "<style scoped>\n",
       "    .dataframe tbody tr th:only-of-type {\n",
       "        vertical-align: middle;\n",
       "    }\n",
       "\n",
       "    .dataframe tbody tr th {\n",
       "        vertical-align: top;\n",
       "    }\n",
       "\n",
       "    .dataframe thead th {\n",
       "        text-align: right;\n",
       "    }\n",
       "</style>\n",
       "<table border=\"1\" class=\"dataframe\">\n",
       "  <thead>\n",
       "    <tr style=\"text-align: right;\">\n",
       "      <th></th>\n",
       "      <th>city_id</th>\n",
       "      <th>hotel_country</th>\n",
       "    </tr>\n",
       "    <tr>\n",
       "      <th>utrip_id</th>\n",
       "      <th></th>\n",
       "      <th></th>\n",
       "    </tr>\n",
       "  </thead>\n",
       "  <tbody>\n",
       "    <tr>\n",
       "      <th>1000066_5</th>\n",
       "      <td>41971</td>\n",
       "      <td>Urkesh</td>\n",
       "    </tr>\n",
       "    <tr>\n",
       "      <th>1000270_5</th>\n",
       "      <td>23921</td>\n",
       "      <td>Cobra Island</td>\n",
       "    </tr>\n",
       "    <tr>\n",
       "      <th>1000441_5</th>\n",
       "      <td>50457</td>\n",
       "      <td>Osterlich</td>\n",
       "    </tr>\n",
       "    <tr>\n",
       "      <th>100048_5</th>\n",
       "      <td>17013</td>\n",
       "      <td>Borginia</td>\n",
       "    </tr>\n",
       "  </tbody>\n",
       "</table>\n",
       "</div>"
      ],
      "text/plain": [
       "           city_id hotel_country\n",
       "utrip_id                        \n",
       "1000066_5    41971        Urkesh\n",
       "1000270_5    23921  Cobra Island\n",
       "1000441_5    50457     Osterlich\n",
       "100048_5     17013      Borginia"
      ]
     },
     "execution_count": 45,
     "metadata": {},
     "output_type": "execute_result"
    }
   ],
   "source": [
    "ground_truth"
   ]
  },
  {
   "cell_type": "markdown",
   "metadata": {},
   "source": [
    "## Evaluate - use accuracy at 4 to evaluate the prediction"
   ]
  },
  {
   "cell_type": "code",
   "execution_count": 46,
   "metadata": {},
   "outputs": [],
   "source": [
    "def evaluate_accuracy_at_4(submission,ground_truth):\n",
    "    '''checks if the true city is within the four recommended cities'''\n",
    "    data_to_eval = submission.join(ground_truth,on='utrip_id')\n",
    "    hits = data_to_eval.apply(\n",
    "        lambda row: row['city_id'] in (row[['city_id_1', 'city_id_2', 'city_id_3', 'city_id_4']].values),\n",
    "            axis = 1)\n",
    "    return hits.mean()"
   ]
  },
  {
   "cell_type": "code",
   "execution_count": 47,
   "metadata": {},
   "outputs": [
    {
     "data": {
      "text/plain": [
       "0.5"
      ]
     },
     "execution_count": 47,
     "metadata": {},
     "output_type": "execute_result"
    }
   ],
   "source": [
    "evaluate_accuracy_at_4(submission,ground_truth) ### .5 for default \n",
    "### .5 if filtering out cities appearing less than 50 times - irrelevant, since those don't appear anyway"
   ]
  }
 ],
 "metadata": {
  "kernelspec": {
   "display_name": "Python 3",
   "language": "python",
   "name": "python3"
  },
  "language_info": {
   "codemirror_mode": {
    "name": "ipython",
    "version": 3
   },
   "file_extension": ".py",
   "mimetype": "text/x-python",
   "name": "python",
   "nbconvert_exporter": "python",
   "pygments_lexer": "ipython3",
   "version": "3.7.9"
  }
 },
 "nbformat": 4,
 "nbformat_minor": 4
}
